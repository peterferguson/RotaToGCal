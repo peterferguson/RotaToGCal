{
 "cells": [
  {
   "cell_type": "code",
   "execution_count": 1,
   "metadata": {},
   "outputs": [],
   "source": [
    "from datetime import datetime, timedelta\n",
    "from Gcal import calendarServiceClient, createCalendar, createEvent, GoogleEvent"
   ]
  },
  {
   "cell_type": "code",
   "execution_count": 2,
   "metadata": {},
   "outputs": [],
   "source": [
    "\n",
    "service_client = calendarServiceClient(creds_path=\"../credentials/credentials.json\", pickle_path=\"../credentials/token.pickle\")\n",
    "calendar_id = createCalendar(service_client, \"Laura's Rota\")"
   ]
  },
  {
   "cell_type": "code",
   "execution_count": 3,
   "metadata": {},
   "outputs": [],
   "source": [
    "\n",
    "\n",
    "calendar_dict = service_client.calendarList().list(pageToken=None).execute()"
   ]
  },
  {
   "cell_type": "code",
   "execution_count": 4,
   "metadata": {},
   "outputs": [
    {
     "name": "stdout",
     "output_type": "stream",
     "text": [
      "Getting the upcoming 10 events\n"
     ]
    }
   ],
   "source": [
    "print('Getting the upcoming 10 events')\n",
    "timeMin = '2021-11-30T00:00:03.204704Z'\n",
    "timeMax = '2022-04-04T00:00:03.204704Z'\n",
    "\n",
    "\n",
    "events_result = service_client.events().list(calendarId=calendar_id, timeMin=timeMin,\n",
    "                                    timeMax=timeMax,\n",
    "                                    singleEvents=True,\n",
    "                                    orderBy='startTime').execute()\n",
    "events = events_result.get('items', [])"
   ]
  },
  {
   "cell_type": "code",
   "execution_count": 5,
   "metadata": {},
   "outputs": [
    {
     "name": "stdout",
     "output_type": "stream",
     "text": [
      "[({'dateTime': '2021-12-02T14:00:00Z', 'timeZone': 'Europe/London'}, {'dateTime': '2021-12-03T00:00:00Z', 'timeZone': 'Europe/London'}), ({'dateTime': '2021-12-03T14:00:00Z', 'timeZone': 'Europe/London'}, {'dateTime': '2021-12-04T00:00:00Z', 'timeZone': 'Europe/London'}), ({'dateTime': '2021-12-06T08:00:00Z', 'timeZone': 'Europe/London'}, {'dateTime': '2021-12-06T18:00:00Z', 'timeZone': 'Europe/London'}), ({'dateTime': '2021-12-07T12:00:00Z', 'timeZone': 'Europe/London'}, {'dateTime': '2021-12-07T22:00:00Z', 'timeZone': 'Europe/London'}), ({'dateTime': '2021-12-11T12:00:00Z', 'timeZone': 'Europe/London'}, {'dateTime': '2021-12-11T22:00:00Z', 'timeZone': 'Europe/London'}), ({'dateTime': '2021-12-12T12:00:00Z', 'timeZone': 'Europe/London'}, {'dateTime': '2021-12-12T22:00:00Z', 'timeZone': 'Europe/London'}), ({'dateTime': '2021-12-13T22:00:00Z', 'timeZone': 'Europe/London'}, {'dateTime': '2021-12-14T08:00:00Z', 'timeZone': 'Europe/London'}), ({'dateTime': '2021-12-14T22:00:00Z', 'timeZone': 'Europe/London'}, {'dateTime': '2021-12-15T08:00:00Z', 'timeZone': 'Europe/London'}), ({'dateTime': '2021-12-15T22:00:00Z', 'timeZone': 'Europe/London'}, {'dateTime': '2021-12-16T08:00:00Z', 'timeZone': 'Europe/London'}), ({'dateTime': '2021-12-16T22:00:00Z', 'timeZone': 'Europe/London'}, {'dateTime': '2021-12-17T08:00:00Z', 'timeZone': 'Europe/London'}), ({'dateTime': '2021-12-20T14:00:00Z', 'timeZone': 'Europe/London'}, {'dateTime': '2021-12-21T00:00:00Z', 'timeZone': 'Europe/London'}), ({'dateTime': '2021-12-21T14:00:00Z', 'timeZone': 'Europe/London'}, {'dateTime': '2021-12-22T00:00:00Z', 'timeZone': 'Europe/London'}), ({'dateTime': '2021-12-24T22:00:00Z', 'timeZone': 'Europe/London'}, {'dateTime': '2021-12-25T08:00:00Z', 'timeZone': 'Europe/London'}), ({'dateTime': '2021-12-25T22:00:00Z', 'timeZone': 'Europe/London'}, {'dateTime': '2021-12-26T08:00:00Z', 'timeZone': 'Europe/London'}), ({'dateTime': '2021-12-26T22:00:00Z', 'timeZone': 'Europe/London'}, {'dateTime': '2021-12-27T08:00:00Z', 'timeZone': 'Europe/London'}), ({'dateTime': '2021-12-29T14:00:00Z', 'timeZone': 'Europe/London'}, {'dateTime': '2021-12-30T00:00:00Z', 'timeZone': 'Europe/London'}), ({'dateTime': '2021-12-30T14:00:00Z', 'timeZone': 'Europe/London'}, {'dateTime': '2021-12-31T00:00:00Z', 'timeZone': 'Europe/London'}), ({'dateTime': '2021-12-31T14:00:00Z', 'timeZone': 'Europe/London'}, {'dateTime': '2022-01-01T00:00:00Z', 'timeZone': 'Europe/London'}), ({'dateTime': '2022-01-01T14:00:00Z', 'timeZone': 'Europe/London'}, {'dateTime': '2022-01-02T00:00:00Z', 'timeZone': 'Europe/London'}), ({'dateTime': '2022-01-02T14:00:00Z', 'timeZone': 'Europe/London'}, {'dateTime': '2022-01-03T00:00:00Z', 'timeZone': 'Europe/London'}), ({'dateTime': '2022-01-04T08:00:00Z', 'timeZone': 'Europe/London'}, {'dateTime': '2022-01-04T18:00:00Z', 'timeZone': 'Europe/London'}), ({'dateTime': '2022-01-05T08:00:00Z', 'timeZone': 'Europe/London'}, {'dateTime': '2022-01-05T18:00:00Z', 'timeZone': 'Europe/London'}), ({'dateTime': '2022-01-06T08:00:00Z', 'timeZone': 'Europe/London'}, {'dateTime': '2022-01-06T18:00:00Z', 'timeZone': 'Europe/London'}), ({'dateTime': '2022-01-07T08:00:00Z', 'timeZone': 'Europe/London'}, {'dateTime': '2022-01-07T18:00:00Z', 'timeZone': 'Europe/London'}), ({'dateTime': '2022-01-10T08:00:00Z', 'timeZone': 'Europe/London'}, {'dateTime': '2022-01-10T18:00:00Z', 'timeZone': 'Europe/London'}), ({'dateTime': '2022-01-11T08:00:00Z', 'timeZone': 'Europe/London'}, {'dateTime': '2022-01-11T18:00:00Z', 'timeZone': 'Europe/London'}), ({'dateTime': '2022-01-12T08:00:00Z', 'timeZone': 'Europe/London'}, {'dateTime': '2022-01-12T18:00:00Z', 'timeZone': 'Europe/London'}), ({'dateTime': '2022-01-13T08:00:00Z', 'timeZone': 'Europe/London'}, {'dateTime': '2022-01-13T18:00:00Z', 'timeZone': 'Europe/London'}), ({'dateTime': '2022-01-14T08:00:00Z', 'timeZone': 'Europe/London'}, {'dateTime': '2022-01-14T18:00:00Z', 'timeZone': 'Europe/London'}), ({'dateTime': '2022-01-17T14:00:00Z', 'timeZone': 'Europe/London'}, {'dateTime': '2022-01-18T00:00:00Z', 'timeZone': 'Europe/London'}), ({'dateTime': '2022-01-20T08:00:00Z', 'timeZone': 'Europe/London'}, {'dateTime': '2022-01-20T18:00:00Z', 'timeZone': 'Europe/London'}), ({'dateTime': '2022-01-21T08:00:00Z', 'timeZone': 'Europe/London'}, {'dateTime': '2022-01-21T18:00:00Z', 'timeZone': 'Europe/London'}), ({'dateTime': '2022-01-22T08:00:00Z', 'timeZone': 'Europe/London'}, {'dateTime': '2022-01-22T18:00:00Z', 'timeZone': 'Europe/London'}), ({'dateTime': '2022-01-23T08:00:00Z', 'timeZone': 'Europe/London'}, {'dateTime': '2022-01-23T18:00:00Z', 'timeZone': 'Europe/London'}), ({'dateTime': '2022-01-24T22:00:00Z', 'timeZone': 'Europe/London'}, {'dateTime': '2022-01-25T08:00:00Z', 'timeZone': 'Europe/London'}), ({'dateTime': '2022-01-25T22:00:00Z', 'timeZone': 'Europe/London'}, {'dateTime': '2022-01-26T08:00:00Z', 'timeZone': 'Europe/London'}), ({'dateTime': '2022-01-26T22:00:00Z', 'timeZone': 'Europe/London'}, {'dateTime': '2022-01-27T08:00:00Z', 'timeZone': 'Europe/London'}), ({'dateTime': '2022-01-27T22:00:00Z', 'timeZone': 'Europe/London'}, {'dateTime': '2022-01-28T08:00:00Z', 'timeZone': 'Europe/London'}), ({'dateTime': '2022-01-31T08:00:00Z', 'timeZone': 'Europe/London'}, {'dateTime': '2022-01-31T18:00:00Z', 'timeZone': 'Europe/London'}), ({'dateTime': '2022-02-02T08:00:00Z', 'timeZone': 'Europe/London'}, {'dateTime': '2022-02-02T18:00:00Z', 'timeZone': 'Europe/London'}), ({'dateTime': '2022-02-04T22:00:00Z', 'timeZone': 'Europe/London'}, {'dateTime': '2022-02-05T08:00:00Z', 'timeZone': 'Europe/London'}), ({'dateTime': '2022-02-05T22:00:00Z', 'timeZone': 'Europe/London'}, {'dateTime': '2022-02-06T08:00:00Z', 'timeZone': 'Europe/London'}), ({'dateTime': '2022-02-06T22:00:00Z', 'timeZone': 'Europe/London'}, {'dateTime': '2022-02-07T08:00:00Z', 'timeZone': 'Europe/London'}), ({'dateTime': '2022-02-09T12:00:00Z', 'timeZone': 'Europe/London'}, {'dateTime': '2022-02-09T22:00:00Z', 'timeZone': 'Europe/London'}), ({'dateTime': '2022-02-10T12:00:00Z', 'timeZone': 'Europe/London'}, {'dateTime': '2022-02-10T22:00:00Z', 'timeZone': 'Europe/London'}), ({'dateTime': '2022-02-11T12:00:00Z', 'timeZone': 'Europe/London'}, {'dateTime': '2022-02-11T22:00:00Z', 'timeZone': 'Europe/London'}), ({'dateTime': '2022-02-14T12:00:00Z', 'timeZone': 'Europe/London'}, {'dateTime': '2022-02-14T22:00:00Z', 'timeZone': 'Europe/London'}), ({'dateTime': '2022-02-15T14:00:00Z', 'timeZone': 'Europe/London'}, {'dateTime': '2022-02-16T00:00:00Z', 'timeZone': 'Europe/London'}), ({'dateTime': '2022-02-19T12:00:00Z', 'timeZone': 'Europe/London'}, {'dateTime': '2022-02-19T22:00:00Z', 'timeZone': 'Europe/London'}), ({'dateTime': '2022-02-20T12:00:00Z', 'timeZone': 'Europe/London'}, {'dateTime': '2022-02-20T22:00:00Z', 'timeZone': 'Europe/London'}), ({'dateTime': '2022-02-21T12:00:00Z', 'timeZone': 'Europe/London'}, {'dateTime': '2022-02-21T22:00:00Z', 'timeZone': 'Europe/London'}), ({'dateTime': '2022-02-22T12:00:00Z', 'timeZone': 'Europe/London'}, {'dateTime': '2022-02-22T22:00:00Z', 'timeZone': 'Europe/London'}), ({'dateTime': '2022-02-23T12:00:00Z', 'timeZone': 'Europe/London'}, {'dateTime': '2022-02-23T22:00:00Z', 'timeZone': 'Europe/London'}), ({'dateTime': '2022-02-24T12:00:00Z', 'timeZone': 'Europe/London'}, {'dateTime': '2022-02-24T22:00:00Z', 'timeZone': 'Europe/London'}), ({'dateTime': '2022-02-28T22:00:00Z', 'timeZone': 'Europe/London'}, {'dateTime': '2022-03-01T08:00:00Z', 'timeZone': 'Europe/London'}), ({'dateTime': '2022-03-01T22:00:00Z', 'timeZone': 'Europe/London'}, {'dateTime': '2022-03-02T08:00:00Z', 'timeZone': 'Europe/London'}), ({'dateTime': '2022-03-02T22:00:00Z', 'timeZone': 'Europe/London'}, {'dateTime': '2022-03-03T08:00:00Z', 'timeZone': 'Europe/London'}), ({'dateTime': '2022-03-03T22:00:00Z', 'timeZone': 'Europe/London'}, {'dateTime': '2022-03-04T08:00:00Z', 'timeZone': 'Europe/London'}), ({'dateTime': '2022-03-07T08:00:00Z', 'timeZone': 'Europe/London'}, {'dateTime': '2022-03-07T18:00:00Z', 'timeZone': 'Europe/London'}), ({'dateTime': '2022-03-08T08:00:00Z', 'timeZone': 'Europe/London'}, {'dateTime': '2022-03-08T18:00:00Z', 'timeZone': 'Europe/London'}), ({'dateTime': '2022-03-10T12:00:00Z', 'timeZone': 'Europe/London'}, {'dateTime': '2022-03-10T22:00:00Z', 'timeZone': 'Europe/London'}), ({'dateTime': '2022-03-11T12:00:00Z', 'timeZone': 'Europe/London'}, {'dateTime': '2022-03-11T22:00:00Z', 'timeZone': 'Europe/London'}), ({'dateTime': '2022-03-14T12:00:00Z', 'timeZone': 'Europe/London'}, {'dateTime': '2022-03-14T22:00:00Z', 'timeZone': 'Europe/London'}), ({'dateTime': '2022-03-15T12:00:00Z', 'timeZone': 'Europe/London'}, {'dateTime': '2022-03-15T22:00:00Z', 'timeZone': 'Europe/London'}), ({'dateTime': '2022-03-16T12:00:00Z', 'timeZone': 'Europe/London'}, {'dateTime': '2022-03-16T22:00:00Z', 'timeZone': 'Europe/London'}), ({'dateTime': '2022-03-17T12:00:00Z', 'timeZone': 'Europe/London'}, {'dateTime': '2022-03-17T22:00:00Z', 'timeZone': 'Europe/London'}), ({'dateTime': '2022-03-25T22:00:00Z', 'timeZone': 'Europe/London'}, {'dateTime': '2022-03-26T08:00:00Z', 'timeZone': 'Europe/London'}), ({'dateTime': '2022-03-26T22:00:00Z', 'timeZone': 'Europe/London'}, {'dateTime': '2022-03-27T08:00:00+01:00', 'timeZone': 'Europe/London'}), ({'dateTime': '2022-03-27T22:00:00+01:00', 'timeZone': 'Europe/London'}, {'dateTime': '2022-03-28T08:00:00+01:00', 'timeZone': 'Europe/London'}), ({'dateTime': '2022-03-30T14:00:00+01:00', 'timeZone': 'Europe/London'}, {'dateTime': '2022-03-31T00:00:00+01:00', 'timeZone': 'Europe/London'}), ({'dateTime': '2022-03-31T14:00:00+01:00', 'timeZone': 'Europe/London'}, {'dateTime': '2022-04-01T00:00:00+01:00', 'timeZone': 'Europe/London'}), ({'dateTime': '2022-04-01T14:00:00+01:00', 'timeZone': 'Europe/London'}, {'dateTime': '2022-04-02T00:00:00+01:00', 'timeZone': 'Europe/London'})]\n"
     ]
    }
   ],
   "source": [
    "event_dates = [(event['start'], event['end']) for event in events]\n",
    "print(event_dates)"
   ]
  },
  {
   "cell_type": "code",
   "execution_count": 6,
   "metadata": {},
   "outputs": [
    {
     "data": {
      "text/plain": [
       "{'dateTime': '2022-08-14T22:00:00', 'timeZone': 'Europe/London'}"
      ]
     },
     "execution_count": 6,
     "metadata": {},
     "output_type": "execute_result"
    }
   ],
   "source": [
    "\n",
    "\n",
    "\n",
    "def add_weeks_to_date(date, weeks = 1):\n",
    "    old_date = datetime.strptime(date['dateTime'][:-6] if \"+\" in date['dateTime'] else date['dateTime'][:-1], '%Y-%m-%dT%H:%M:%S')\n",
    "    new_dateTime = (old_date - timedelta(days=7 * weeks)).strftime(\"%Y-%m-%dT%H:%M:%S\")\n",
    "    return {**date, 'dateTime': new_dateTime}\n",
    "\n",
    "\n",
    "add_weeks_to_date({'dateTime': '2022-08-07T22:00:00', 'timeZone': 'Europe/London'})\n"
   ]
  },
  {
   "cell_type": "code",
   "execution_count": 7,
   "metadata": {},
   "outputs": [],
   "source": [
    "new_events = [{**event, \"start\": add_weeks_to_date(event['start'], 1), \"end\": add_weeks_to_date(event['end'], 1)} for event in events]\n",
    "\n",
    "for new_event in new_events:\n",
    "    service_client.events().patch(calendarId=calendar_id, eventId=new_event['id'], body=new_event).execute()"
   ]
  },
  {
   "cell_type": "code",
   "execution_count": null,
   "metadata": {},
   "outputs": [],
   "source": []
  }
 ],
 "metadata": {
  "interpreter": {
   "hash": "596fa9a45386fa32ed9a5f358e24d9cf7b763c240e8dca6cf33e02a30ba79c8d"
  },
  "kernelspec": {
   "display_name": "Python 3.9.2 64-bit (conda)",
   "language": "python",
   "name": "python3"
  },
  "language_info": {
   "codemirror_mode": {
    "name": "ipython",
    "version": 3
   },
   "file_extension": ".py",
   "mimetype": "text/x-python",
   "name": "python",
   "nbconvert_exporter": "python",
   "pygments_lexer": "ipython3",
   "version": "3.9.2"
  },
  "orig_nbformat": 4
 },
 "nbformat": 4,
 "nbformat_minor": 2
}
